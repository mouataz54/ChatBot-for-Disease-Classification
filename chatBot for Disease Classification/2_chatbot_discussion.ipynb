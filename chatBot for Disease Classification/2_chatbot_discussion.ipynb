{
  "cells": [
    {
      "cell_type": "code",
      "execution_count": null,
      "id": "96318372",
      "metadata": {
        "id": "96318372"
      },
      "outputs": [],
      "source": [
        "import numpy as np\n",
        "import pandas as pd\n",
        "import nltk\n",
        "from nltk.chat.util import Chat,reflections\n",
        "import string\n",
        "import random\n",
        "from nltk.stem import PorterStemmer, WordNetLemmatizer\n",
        "import spacy"
      ]
    },
    {
      "cell_type": "code",
      "execution_count": null,
      "id": "408b31b9",
      "metadata": {
        "id": "408b31b9"
      },
      "outputs": [],
      "source": [
        "df_symptom=pd.read_csv('Desktop\\data_symp.csv')\n",
        "df_symptom.columns = df_symptom.columns.str.lower()\n",
        "df_symptom.columns\n",
        "df_symptom.drop(\"unnamed: 0\",axis=1,inplace=True)"
      ]
    },
    {
      "cell_type": "code",
      "execution_count": null,
      "id": "979fb4bc",
      "metadata": {
        "id": "979fb4bc",
        "outputId": "a9541b6e-338a-486a-9942-9dc6dbdc0144"
      },
      "outputs": [
        {
          "name": "stderr",
          "output_type": "stream",
          "text": [
            "[nltk_data] Error loading punkt: <urlopen error [Errno 11001]\n",
            "[nltk_data]     getaddrinfo failed>\n",
            "[nltk_data] Error loading wordnet: <urlopen error [Errno 11001]\n",
            "[nltk_data]     getaddrinfo failed>\n",
            "[nltk_data] Error loading stopwords: <urlopen error [Errno 11001]\n",
            "[nltk_data]     getaddrinfo failed>\n"
          ]
        },
        {
          "data": {
            "text/plain": [
              "False"
            ]
          },
          "execution_count": 3,
          "metadata": {},
          "output_type": "execute_result"
        }
      ],
      "source": [
        "Chat\n",
        "nltk.download('punkt')\n",
        "nltk.download('wordnet')\n",
        "nltk.download('stopwords')"
      ]
    },
    {
      "cell_type": "code",
      "execution_count": null,
      "id": "9a53f27d",
      "metadata": {
        "id": "9a53f27d"
      },
      "outputs": [],
      "source": [
        "nlp= spacy.load('en_core_web_lg')"
      ]
    },
    {
      "cell_type": "code",
      "execution_count": null,
      "id": "8bb0d74e",
      "metadata": {
        "id": "8bb0d74e"
      },
      "outputs": [],
      "source": [
        "our_diseases=['covid', 'Heart_stroke', 'uti', 'Allergy', 'Cold', 'Flu',\n",
        "       'magraine', 'Panic Disorder', 'pharyngitis',\n",
        "       'crise_cardiaque']"
      ]
    },
    {
      "cell_type": "code",
      "execution_count": null,
      "id": "a2ed5b03",
      "metadata": {
        "id": "a2ed5b03"
      },
      "outputs": [],
      "source": [
        "import joblib"
      ]
    },
    {
      "cell_type": "code",
      "execution_count": null,
      "id": "5672b0b1",
      "metadata": {
        "id": "5672b0b1"
      },
      "outputs": [],
      "source": [
        "model = joblib.load('model_.joblib')"
      ]
    },
    {
      "cell_type": "code",
      "execution_count": null,
      "id": "31ff6ce4",
      "metadata": {
        "id": "31ff6ce4",
        "outputId": "19a1c632-f18b-4671-988b-00ea6c549203"
      },
      "outputs": [
        {
          "data": {
            "text/plain": [
              "['gender',\n",
              " 'age',\n",
              " 'fever',\n",
              " 'cough',\n",
              " 'runny_nose',\n",
              " 'muscle_ache',\n",
              " 'pneumonia',\n",
              " 'diarrhea',\n",
              " 'lung_infection',\n",
              " 'travel_history',\n",
              " 'isolation_treatment',\n",
              " 'currentsmoker',\n",
              " 'cigsperday',\n",
              " 'bpmeds',\n",
              " 'prevalentstroke',\n",
              " 'prevalenthyp',\n",
              " 'diabetes',\n",
              " 'sysbp',\n",
              " 'diabp',\n",
              " 'bmi',\n",
              " 'heartrate',\n",
              " 'nausea',\n",
              " 'lumbar_pain',\n",
              " 'urine_pushing',\n",
              " 'micturition_pains',\n",
              " 'burning_urethra',\n",
              " 'inflamation',\n",
              " 'nephritis',\n",
              " 'tiredness',\n",
              " 'sore_throat',\n",
              " 'stuffy_nose',\n",
              " 'vomit',\n",
              " 'shortness_of_breath',\n",
              " 'difficulty_breathing',\n",
              " 'loss_of_taste',\n",
              " 'loss_of_smell',\n",
              " 'itchy_nose',\n",
              " 'itchy_eyes',\n",
              " 'itchy_mouth',\n",
              " 'itchy_inner_ear',\n",
              " 'sneezing',\n",
              " 'pink_eye',\n",
              " 'duration',\n",
              " 'frequency',\n",
              " 'location',\n",
              " 'character',\n",
              " 'intensity',\n",
              " 'phonophobia',\n",
              " 'photophobia',\n",
              " 'visual',\n",
              " 'sensory',\n",
              " 'dysphasia',\n",
              " 'dysarthria',\n",
              " 'vertigo',\n",
              " 'tinnitus',\n",
              " 'dpf',\n",
              " 'chest pain',\n",
              " 'dizziness',\n",
              " 'fear of losing control',\n",
              " 'panic attacks',\n",
              " 'pain',\n",
              " 'headache',\n",
              " 'tonsillarswelling',\n",
              " 'exudate',\n",
              " 'sudden',\n",
              " 'chest_pain',\n",
              " 'trestbps',\n",
              " 'fbs',\n",
              " 'thalach']"
            ]
          },
          "execution_count": 47,
          "metadata": {},
          "output_type": "execute_result"
        }
      ],
      "source": [
        "all_symptoms"
      ]
    },
    {
      "cell_type": "code",
      "execution_count": null,
      "id": "b7f2bdc0",
      "metadata": {
        "scrolled": false,
        "id": "b7f2bdc0"
      },
      "outputs": [],
      "source": [
        "all_symptoms = df_symptom.drop('target',axis=1).columns.tolist()\n",
        "def process_text(text):\n",
        "    text = text.lower()\n",
        "    doc = nlp(text)\n",
        "    processed_words = [token.lemma_ for token in doc if not token.is_stop and not token.is_punct]\n",
        "    return processed_words\n",
        "def same_length(liste1, liste2):\n",
        "    common_elements = set(liste1) & set(liste2)\n",
        "\n",
        "    list1_same_length = [item if item in common_elements else 0 for item in liste2]\n",
        "    return list1_same_length\n",
        "def convert_to_symptom_vector(symptoms,all_symptoms):\n",
        "    vector=[]\n",
        "    symptoms=same_length(symptoms,all_symptoms)\n",
        "    vector_df = pd.DataFrame(columns=all_symptoms)\n",
        "    for symptom in symptoms:\n",
        "        if symptom in all_symptoms:\n",
        "            vector.append(1)\n",
        "        else:\n",
        "            vector.append(0)\n",
        "\n",
        "    vector_df = pd.concat([vector_df, pd.DataFrame([vector], columns=all_symptoms)], ignore_index=True)\n",
        "    if symptoms[0]==\"male\":\n",
        "        vector_df['gender']=0\n",
        "    elif symptoms[0]==\"female\" :\n",
        "        vector_df['gender']=1\n",
        "    vector_df['age']=symptoms[1]\n",
        "    vector_df = vector_df.astype(int)\n",
        "    return vector_df\n",
        "def extract_symptoms_from_input(user_inputs,all_symptoms):\n",
        "    processed_input=process_text(user_inputs)\n",
        "    identified_symptoms=[token for token in processed_input if token in all_symptoms[2:]]\n",
        "    return identified_symptoms\n",
        "def predict_diseases(symptom_vector):\n",
        "    our_disease=['Allergy', 'Cold', 'Flu', 'Heart_stroke', 'Panic Disorder',\n",
        "       'covid', 'crise_cardiaque', 'magraine', 'pharyngitis', 'uti']\n",
        "    predicted_disease=model.predict(symptom_vector)\n",
        "\n",
        "    return our_disease[int(predicted_disease)]"
      ]
    },
    {
      "cell_type": "code",
      "execution_count": null,
      "id": "4bc2a69c",
      "metadata": {
        "id": "4bc2a69c",
        "outputId": "fe6eef4d-036d-40b4-ed18-29e89d61ed6d"
      },
      "outputs": [
        {
          "data": {
            "text/plain": [
              "'covid'"
            ]
          },
          "execution_count": 43,
          "metadata": {},
          "output_type": "execute_result"
        }
      ],
      "source": [
        "symptom_vector=convert_to_symptom_vector(symptoms,all_symptoms)\n",
        "symptom_vector.dtypes\n",
        "predict_diseases(symptom_vector)"
      ]
    },
    {
      "cell_type": "code",
      "execution_count": null,
      "id": "37680242",
      "metadata": {
        "id": "37680242"
      },
      "outputs": [],
      "source": [
        "def ask_for_gender():\n",
        "    while True:\n",
        "        gender = input(\"Chatbot: What is your gender? \\n\").strip().lower()\n",
        "        if gender in ['male', 'female']:\n",
        "            return gender\n",
        "        else:\n",
        "            print(\"Chatbot: Please enter a valid gender ('male' or 'female'). \\n\")\n",
        "\n",
        "def ask_for_age():\n",
        "    while True:\n",
        "        try:\n",
        "            age = int(input(\"Chatbot: Please provide your age: \\n\"))\n",
        "            if age > 0:\n",
        "                return str(age)\n",
        "            else:\n",
        "                print(\"Chatbot: Please enter a valid age (greater than 0). \\n\")\n",
        "        except ValueError:\n",
        "            print(\"Chatbot: Please enter a valid age (numeric value). \\n\")"
      ]
    },
    {
      "cell_type": "code",
      "execution_count": null,
      "id": "f57fe4d6",
      "metadata": {
        "id": "f57fe4d6",
        "outputId": "773d4cef-9153-42ba-9c6a-a95df22ab89a"
      },
      "outputs": [
        {
          "name": "stdout",
          "output_type": "stream",
          "text": [
            "Chatbot: Hi! How can I help you today? \n",
            "\n",
            "You: \n",
            "rehdhhsscijdhis\n",
            "Chatbot:I hope that I can help you \n",
            "\n",
            "Chatbot: What is your gender? \n",
            "male \n",
            "Chatbot: Please provide your age: \n",
            "22\n",
            "Chatbot: Okay, now I need to know your symptoms. Please enter them below.  \n",
            "\n",
            "You: fever and cough \n",
            "['male', '22', 'fever and cough ']\n",
            "Chatbot: Based on your symptoms, you might have covid. Please consult a doctor for proper diagnosis and treatment.\n",
            "Chatbot: Hi! How can I help you today? \n",
            "\n"
          ]
        }
      ],
      "source": [
        "while True:\n",
        "\n",
        "    user_inputs = []\n",
        "    print(\"Chatbot: Hi! How can I help you today? \\n\")\n",
        "    hi_input = input(\"You: \\n\")\n",
        "    print(\"Chatbot:I hope that I can help you \\n\")\n",
        "    user_gender = ask_for_gender()\n",
        "    user_age = ask_for_age()\n",
        "    user_inputs.extend([user_gender,user_age])\n",
        "    print(\"Chatbot: Okay, now I need to know your symptoms. Please enter them below.  \\n\")\n",
        "    user_symptoms=input(\"You: \")\n",
        "    if user_symptoms.lower() in ['exit', 'quit', 'bye']:\n",
        "        print(\"Chatbot: Goodbye!\")\n",
        "        break\n",
        "    else:\n",
        "        user_inputs.append(user_symptoms)\n",
        "\n",
        "    print(user_inputs)\n",
        "    identified_symptoms = extract_symptoms_from_input(' '.join(user_inputs), all_symptoms)\n",
        "\n",
        "    if identified_symptoms:\n",
        "    # Convert identified symptoms to a binary vector DataFrame\n",
        "        symptom_vector = convert_to_symptom_vector(identified_symptoms, all_symptoms)\n",
        "\n",
        "    # Call your disease detection model to get the predicted disease\n",
        "        predicted_disease = predict_diseases(symptom_vector)\n",
        "\n",
        "        if predicted_disease:\n",
        "            print(\"Chatbot: Based on your symptoms, you might have\", predicted_disease + \". Please consult a doctor for proper diagnosis and treatment.\")\n",
        "        else:\n",
        "            print(\"Chatbot: I'm sorry, I couldn't predict any specific disease based on the provided symptoms.  \\n\")\n",
        "    else:\n",
        "        print(\"Chatbot: I couldn't identify any specific symptoms. Can you please provide more details?  \\n\")"
      ]
    },
    {
      "cell_type": "code",
      "execution_count": null,
      "id": "dcae08fa",
      "metadata": {
        "id": "dcae08fa"
      },
      "outputs": [],
      "source": []
    }
  ],
  "metadata": {
    "kernelspec": {
      "display_name": "Python 3 (ipykernel)",
      "language": "python",
      "name": "python3"
    },
    "language_info": {
      "codemirror_mode": {
        "name": "ipython",
        "version": 3
      },
      "file_extension": ".py",
      "mimetype": "text/x-python",
      "name": "python",
      "nbconvert_exporter": "python",
      "pygments_lexer": "ipython3",
      "version": "3.10.9"
    },
    "colab": {
      "provenance": []
    }
  },
  "nbformat": 4,
  "nbformat_minor": 5
}